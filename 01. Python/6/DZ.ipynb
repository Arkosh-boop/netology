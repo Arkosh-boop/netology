{
 "cells": [
  {
   "cell_type": "code",
   "execution_count": null,
   "metadata": {},
   "outputs": [],
   "source": [
    "Задание 1\n",
    "Печатные газеты использовали свой формат дат для каждого выпуска. Для каждой газеты из списка напишите формат указанной даты для перевода в объект datetime:\n",
    "    "
   ]
  },
  {
   "cell_type": "code",
   "execution_count": 12,
   "metadata": {},
   "outputs": [
    {
     "name": "stdout",
     "output_type": "stream",
     "text": [
      "2002-10-02 00:00:00 2013-10-11 00:00:00 1977-08-18 00:00:00\n"
     ]
    }
   ],
   "source": [
    "import datetime as dt\n",
    "\n",
    "The_Moscow_Times = 'Wednesday, October 2, 2002'\n",
    "The_Guardian = 'Friday, 11.10.13'\n",
    "Daily_News = 'Thursday, 18 August 1977'\n",
    "\n",
    "moscow_date = dt.datetime.strptime(The_Moscow_Times, '%A, %B %d, %Y')\n",
    "guardian = dt.datetime.strptime(The_Guardian, '%A, %d.%m.%y')\n",
    "daily =  dt.datetime.strptime(Daily_News, '%A, %d %B %Y')\n",
    "print(moscow_date, guardian, daily)\n"
   ]
  },
  {
   "cell_type": "code",
   "execution_count": null,
   "metadata": {},
   "outputs": [],
   "source": [
    "\n",
    "\n",
    "Задание 2\n",
    "Дан поток дат в формате YYYY-MM-DD, в которых встречаются некорректные значения:\n",
    "stream = ['2018-04-02', '2018-02-29', '2018-19-02']\n",
    "\n",
    "Напишите функцию, которая проверяет эти даты на корректность. Т. е. для каждой даты возвращает True (дата корректна) или False (некорректная дата). \n",
    "\n"
   ]
  },
  {
   "cell_type": "code",
   "execution_count": 16,
   "metadata": {},
   "outputs": [
    {
     "name": "stdout",
     "output_type": "stream",
     "text": [
      "[True, False, False]\n"
     ]
    }
   ],
   "source": [
    "import datetime as dt\n",
    "\n",
    "def check_dates(list_of_dates):\n",
    "    is_date_correct = []\n",
    "    for date in list_of_dates:\n",
    "        try:\n",
    "            current_date = dt.datetime.strptime(date, '%Y-%m-%d')\n",
    "            is_date_correct.append(True)\n",
    "        except ValueError:\n",
    "            is_date_correct.append(False)\n",
    "    print(is_date_correct)\n",
    "    \n",
    "\n",
    "stream = ['2018-04-02', '2018-02-29', '2018-19-02']\n",
    "check_dates(stream)\n",
    "\n",
    "\n"
   ]
  },
  {
   "cell_type": "code",
   "execution_count": null,
   "metadata": {},
   "outputs": [],
   "source": [
    "\n",
    "Задание 3\n",
    "Напишите функцию date_range, которая возвращает список дат за период от start_date до end_date. \n",
    "Даты должны вводиться в формате YYYY-MM-DD. В случае неверного формата или при start_date > end_date \n",
    "должен возвращаться пустой список.\n",
    "\n"
   ]
  },
  {
   "cell_type": "code",
   "execution_count": null,
   "metadata": {},
   "outputs": [],
   "source": [
    "import datetime as dt\n",
    "\n",
    "def date_range(start_date, end_date):\n",
    "    dates = []\n",
    "    try:\n",
    "        start_date = dt.datetime.strptime(start_date, '%Y-%m-%d')\n",
    "        end_date = dt.datetime.strptime(end_date, '%Y-%m-%d')\n",
    "    except ValueError:\n",
    "        print('Неверный формат даты')\n",
    "    while start_date <= end_date:\n",
    "        dates.append(dt.datetime.strftime(start_date, '%Y-%m-%d'))\n",
    "        start_date += dt.timedelta(days=1)\n",
    "    return dates\n",
    "\n",
    "start_date = input('Введите дату начала в формате YYYY-MM-DD ')\n",
    "end_date = input('Введите дату конца в формате YYYY-MM-DD ')\n",
    "\n",
    "date_range(start_date, end_date)\n",
    "  \n",
    "\n"
   ]
  },
  {
   "cell_type": "code",
   "execution_count": null,
   "metadata": {},
   "outputs": [],
   "source": []
  },
  {
   "cell_type": "code",
   "execution_count": 27,
   "metadata": {},
   "outputs": [],
   "source": [
    "# Задание 4 (бонусное)\n",
    "# Ваш коллега прислал код функции:\n",
    "\n",
    "DEFAULT_USER_COUNT = 3\n",
    "\n",
    "\n",
    "def delete_and_return_last_user(region, default_list=['A100', 'A101', 'A102']):\n",
    "    \"\"\"\n",
    "    Удаляет из списка default_list последнего пользователя \n",
    "    и возвращает ID нового последнего пользователя.\n",
    "    \"\"\"\n",
    "    element_to_delete = default_list[-1]\n",
    "    default_list.remove(element_to_delete)\n",
    "\n",
    "    return default_list[DEFAULT_USER_COUNT - 2]\n",
    "\n",
    "\n",
    "# При однократном вызове этой функции все работает корректно:\n",
    "# delete_and_return_last_user(1)\n",
    "# 'A101'\n",
    "\n",
    "# Однако, при повторном вызове получается ошибка IndexError: list index out of range.\n",
    "\n",
    "# Задание:\n",
    "# 1. Что значит ошибка list index out of range?\n",
    "# 2. Почему при первом запуске функция работает корректно, а при втором - нет?"
   ]
  },
  {
   "cell_type": "code",
   "execution_count": null,
   "metadata": {},
   "outputs": [],
   "source": [
    "# 1) Ошибка значит, что элемент в списке по данному индексу отсутствует\n",
    "# 2) Удаляется элемент и мы не может обратиться к -2 элементу во 2 цикле и вылетает "
   ]
  }
 ],
 "metadata": {
  "kernelspec": {
   "display_name": "Python 3",
   "language": "python",
   "name": "python3"
  },
  "language_info": {
   "codemirror_mode": {
    "name": "ipython",
    "version": 3
   },
   "file_extension": ".py",
   "mimetype": "text/x-python",
   "name": "python",
   "nbconvert_exporter": "python",
   "pygments_lexer": "ipython3",
   "version": "3.7.7"
  }
 },
 "nbformat": 4,
 "nbformat_minor": 4
}
