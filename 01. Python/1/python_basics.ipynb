{
 "cells": [
  {
   "cell_type": "markdown",
   "metadata": {},
   "source": [
    "**Задание 1**. Даны 2 строки: *long_phrase* и *short_phrase*. \n",
    "Напишите код, который проверяет действительно ли длинная фраза *long_phrase* длиннее короткой *short_phrase*. И выводит *True* или *False* в зависимости от результата сравнения."
   ]
  },
  {
   "cell_type": "code",
   "execution_count": null,
   "metadata": {},
   "outputs": [],
   "source": [
    "long_phrase = 'Насколько проще было бы писать программы, если бы не заказчики'\n",
    "short_phrase = '640Кб должно хватить для любых задач. Билл Гейтс (по легенде)'"
   ]
  },
  {
   "cell_type": "code",
   "execution_count": 10,
   "metadata": {
    "scrolled": true
   },
   "outputs": [
    {
     "name": "stdout",
     "output_type": "stream",
     "text": [
      "True\n"
     ]
    }
   ],
   "source": [
    "long_phrase = 'Насколько проще было бы писать программы, если бы не заказчики'\n",
    "short_phrase = '640Кб должно хватить для любых задач. Билл Гейтс (по легенде)'\n",
    "\n",
    "if len(long_phrase) > len(short_phrase):\n",
    "    print(True)\n",
    "else: \n",
    "    print(False)"
   ]
  },
  {
   "cell_type": "markdown",
   "metadata": {},
   "source": [
    "**Задание 2**. Дано значение объема файла в байтах (*в мегабайте 2^20 байт*). Напишите перевод этого значения в мегабайты в формате: \"*Объем файла равен 213.68Mb*\"."
   ]
  },
  {
   "cell_type": "code",
   "execution_count": 14,
   "metadata": {},
   "outputs": [
    {
     "name": "stdout",
     "output_type": "stream",
     "text": [
      "Введите размера файла в байтах 2131231\n",
      "Объем файла равен 2.03 Mb\n"
     ]
    }
   ],
   "source": [
    "inp_byte = int(input('Введите размера файла в байтах '))\n",
    "perevod_v_mb = round(inp_byte / 1048576, 2)\n",
    "print('Объем файла равен', perevod_v_mb, 'Mb')"
   ]
  },
  {
   "cell_type": "markdown",
   "metadata": {},
   "source": [
    "**Задание 3**. Разработать приложение для определения знака зодиака по дате рождения. Пример:\n",
    "\n",
    "Введите месяц: март\n",
    "\n",
    "Введите число: 6\n",
    "\n",
    "Вывод:\n",
    "Рыбы"
   ]
  },
  {
   "cell_type": "code",
   "execution_count": 24,
   "metadata": {},
   "outputs": [
    {
     "name": "stdout",
     "output_type": "stream",
     "text": [
      "Введите номер месяца:5\n",
      "Введите число:31\n",
      "ты близнецы\n"
     ]
    }
   ],
   "source": [
    "inp_month = int(input('Введите номер месяца:'))\n",
    "inp_day = int(input('Введите число:'))\n",
    "if inp_day <=31 and inp_month <= 12: # простая проверка\n",
    "  if (inp_month == 1 and inp_day >= 21) or (inp_month == 2 and inp_day <= 19):\n",
    "      print('ты водолей')\n",
    "  elif (inp_month == 2 and inp_day >= 20) or (inp_month == 3 and inp_day <= 20):\n",
    "      print('ты рыба')\n",
    "  elif (inp_month == 3 and inp_day >= 21) or (inp_month == 4 and inp_day <= 20):\n",
    "      print('ты овен')\n",
    "  elif (inp_month == 4 and inp_day >= 21) or (inp_month == 5 and inp_day <= 20):\n",
    "      print('ты телец')\n",
    "  elif (inp_month == 5 and inp_day >= 21) or (inp_month == 6 and inp_day <= 21):\n",
    "      print('ты близнецы')\n",
    "  elif (inp_month == 6 and inp_day >= 22) or (inp_month == 7 and inp_day <= 21):\n",
    "      print('ты рак')\n",
    "  elif (inp_month == 7 and inp_day >= 22) or (inp_month == 8 and inp_day <= 23):\n",
    "      print('ты лев')\n",
    "  elif (inp_month == 8 and inp_day >= 24) or (inp_month == 9 and inp_day <= 23):\n",
    "      print('ты дева')\n",
    "  elif (inp_month == 9 and inp_day >= 24) or (inp_month == 10 and inp_day <= 23):\n",
    "      print('ты весы')\n",
    "  elif (inp_month == 10 and inp_day >= 24) or (inp_month == 11 and inp_day <= 23):\n",
    "      print('ты скорпион')\n",
    "  elif (inp_month == 11 and inp_day >= 24) or (inp_month == 12 and inp_day <= 23):\n",
    "      print('ты стрелец')\n",
    "  elif (inp_month == 12 and inp_day >= 22) or (inp_month == 1 and inp_day <= 20):\n",
    "      print('ты козерог')\n",
    "else: \n",
    "  print('ты светлячок (или же ошибся в дате)')"
   ]
  },
  {
   "cell_type": "markdown",
   "metadata": {},
   "source": [
    "**Задание 4**. Нужно разработать приложение для финансового планирования.\n",
    "Приложение учитывает сколько уходит на ипотеку, \"на жизнь\" и сколько нужно отложить на пенсию.\n",
    "Пользователь вводит:\n",
    "- заработанную плату в месяц.\n",
    "- сколько процентов от ЗП уходит на ипотеку.\n",
    "- сколько процентов от ЗП уходит \"на жизнь\".\n",
    "- сколько раз приходит премия в год.\n",
    "\n",
    "Остальная часть заработанной платы откладывается на пенсию.\n",
    "\n",
    "Также пользователю приходит премия в размере зарплаты, от которой половина уходит на отпуск, а вторая половина откладывается.\n",
    "\n",
    "Программа должна учитывать сколько премий было в год.\n",
    "\n",
    "Нужно вывести сколько денег тратит пользователь на ипотеку и сколько он накопит за год.\n",
    "\n",
    "Пример:\n",
    "\n",
    "Введите заработанную плату в месяц: 100000\n",
    "\n",
    "Введите сколько процентов уходит на ипотеку: 30\n",
    "\n",
    "Введите сколько процентов уходит на жизнь: 50\n",
    "\n",
    "Введите количество премий за год: 2\n",
    "\n",
    "Вывод:\n",
    "На ипотеку было потрачено: 360000 рублей\n",
    "Было накоплено: 340000 рублей"
   ]
  },
  {
   "cell_type": "code",
   "execution_count": 31,
   "metadata": {},
   "outputs": [
    {
     "name": "stdout",
     "output_type": "stream",
     "text": [
      "Введите зарплату - 222\n",
      "Сколько % от зп уходит на оплату ипотеки? 1\n",
      "Сколько оставшихся % от зп уходит на жизнь? 3\n",
      "Сколько раз в год приходит премия? 111\n",
      "На ипотеку было потрачено 26.64 рублей.\n",
      "Накоплено в банке 14878.44 рублей.\n"
     ]
    }
   ],
   "source": [
    "salary = int(input('Введите зарплату - '))\n",
    "mortage = int(input('Сколько % от зп уходит на оплату ипотеки? '))\n",
    "if mortage >=100:\n",
    "    print('жить не получается')\n",
    "else:\n",
    "    life = int(input('Сколько оставшихся % от зп уходит на жизнь? '))\n",
    "    if life <= (salary - mortage):\n",
    "        annual_reward_quantity = int(input('Сколько раз в год приходит премия? '))\n",
    "        total_salary = salary * 12\n",
    "        total_mortage = ((mortage / 100) * salary) * 12\n",
    "        total_life = ((life / 100) * salary) * 12\n",
    "        total_award_bank = (annual_reward_quantity / 2) * salary\n",
    "        total_bank = round((total_salary - total_mortage - total_life + total_award_bank), 2)\n",
    "        print(f'На ипотеку было потрачено {total_mortage} рублей.\\nНакоплено в банке {total_bank} рублей.')\n",
    "    else: \n",
    "        print('вы рассказали не обо всех своих доходах, повторите попытку')"
   ]
  },
  {
   "cell_type": "code",
   "execution_count": null,
   "metadata": {},
   "outputs": [],
   "source": []
  }
 ],
 "metadata": {
  "kernelspec": {
   "display_name": "Python 3",
   "language": "python",
   "name": "python3"
  },
  "language_info": {
   "codemirror_mode": {
    "name": "ipython",
    "version": 3
   },
   "file_extension": ".py",
   "mimetype": "text/x-python",
   "name": "python",
   "nbconvert_exporter": "python",
   "pygments_lexer": "ipython3",
   "version": "3.7.6"
  }
 },
 "nbformat": 4,
 "nbformat_minor": 2
}
