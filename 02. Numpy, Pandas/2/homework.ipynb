{
 "cells": [
  {
   "cell_type": "code",
   "execution_count": 1,
   "metadata": {},
   "outputs": [],
   "source": [
    "import pandas as pd"
   ]
  },
  {
   "cell_type": "markdown",
   "metadata": {},
   "source": [
    "Задание 1\n",
    "Скачайте с сайта https://grouplens.org/datasets/movielens/ датасет любого размера. Определите какому фильму было выставлено больше всего оценок 5.0."
   ]
  },
  {
   "cell_type": "code",
   "execution_count": 52,
   "metadata": {},
   "outputs": [
    {
     "data": {
      "text/plain": [
       "'Shawshank Redemption, The (1994)'"
      ]
     },
     "execution_count": 52,
     "metadata": {},
     "output_type": "execute_result"
    }
   ],
   "source": [
    "ratings = pd.read_csv('ml-latest-small/ratings.csv')\n",
    "movies = pd.read_csv('ml-latest-small/movies.csv')\n",
    "\n",
    "best_films = ratings.query('rating == 5')['movieId'].value_counts()\n",
    "best_film_id = best_films.head(1).index[0]\n",
    "best_film_name = movies.query(f'movieId == {best_film_id}')\n",
    "best_film_name['title'].values[0]"
   ]
  },
  {
   "cell_type": "markdown",
   "metadata": {},
   "source": [
    "Задание 2\n",
    "По данным файла power.csv посчитайте суммарное потребление стран Прибалтики (Латвия, Литва и Эстония) категорий 4, 12 и 21 за период с 2005 по 2010 года. Не учитывайте в расчетах отрицательные значения quantity."
   ]
  },
  {
   "cell_type": "code",
   "execution_count": 49,
   "metadata": {},
   "outputs": [
    {
     "name": "stdout",
     "output_type": "stream",
     "text": [
      "Суммарное потребление стран Прибалткик составляет - 408\n"
     ]
    }
   ],
   "source": [
    "power = pd.read_csv('power.csv')\n",
    "countries = ['Lithuania', 'Latvia', 'Estonia']\n",
    "categories = [4, 12, 21]\n",
    "\n",
    "power_countries = power[(power['country'] == countries[0])]\n",
    "\n",
    "for country in countries[1:]:\n",
    "    power_countries = pd.concat([power_countries, power[(power['country'] == country)]], ignore_index=True)\n",
    "\n",
    "power_categories = power_countries[(power_countries['category'] == categories[0])]\n",
    "\n",
    "for category in categories[1:]:\n",
    "    power_categories = pd.concat([power_categories, \n",
    "                                  power_countries[(power_countries['category'] == category)]], ignore_index=True)\n",
    "\n",
    "power_year = power_categories[((power_categories['year']) <= 2010) \n",
    "                              & ((power_categories['year']) >= 2005)\n",
    "                              & ((power_categories['quantity']) >= 0)]\n",
    "total_power = sum(power_year['country'].value_counts())\n",
    "\n",
    "print(f'Суммарное потребление стран Прибалткик составляет - {total_power}')"
   ]
  },
  {
   "cell_type": "markdown",
   "metadata": {},
   "source": [
    "Задание 3\n",
    "Выберите страницу любого сайта с табличными данными. Импортируйте таблицы в pandas dataframe.\n",
    "Примеры страниц (необязательно брать именно эти):\n",
    "https://fortrader.org/quotes\n",
    "https://www.finanz.ru/valyuty/v-realnom-vremeni"
   ]
  },
  {
   "cell_type": "code",
   "execution_count": 51,
   "metadata": {},
   "outputs": [
    {
     "name": "stdout",
     "output_type": "stream",
     "text": [
      "                                        Название          Цена  Изменение  \\\n",
      "0                                  ВТБ Акции ВТБ       0.03514  -0.000010   \n",
      "1                         Газпром Акции газпрома     192.94000      -0.06   \n",
      "2                            Лукойл Акции Лукойл    5318.00000       -3.5   \n",
      "3                        Роснефть Акции Роснефти     367.00000      -0.05   \n",
      "4                       Сбербанк Акции Сбербанка     203.06000      -0.09   \n",
      "5           Сургутнефтегаз Акции Сургутнефтегаза      38.28000     -0.020   \n",
      "6                      Норникель Акции Норникель   19670.00000         -8   \n",
      "7                       Аэрофлот Акции Аерофлота      79.22000      -0.16   \n",
      "8                    Северсталь Акции Северсталь     851.20000      -0.40   \n",
      "9                    Транснефть Акции Транснефть  139000.00000     +4 450   \n",
      "10             Ростелеком Курс акций ростелекома      89.18000      +0.01   \n",
      "11                      РУСАЛ Акции РУСАЛ (RUAL)      26.38000      0.000   \n",
      "12                        НМЛК Акции НЛМК (NLMK)     137.20000     -0.080   \n",
      "13                    Алроса Акции АЛРОСА (ALRS)      63.24000      0.000   \n",
      "14                    Магнит Акции Магнит (MGNT)    4179.00000       -1.5   \n",
      "15                  М.видео Акции М.видео (MVID)     421.10000     +13.30   \n",
      "16    Газпром нефть Акции \"Газпром нефть\" (SIBN)     343.75000      +6.75   \n",
      "17                        НМТП Акции НМТП (NMTP)      10.29000    -0.0100   \n",
      "18            Полиметалл Акции Полиметалл (POLY)    1415.10000     +82.90   \n",
      "19        Полюс Золото Акции Полюс Золото (PLZL)   11720.50000        0.0   \n",
      "20                  НОВАТЭК Акции НОВАТЭК (NVTK)    1045.00000       0.00   \n",
      "21                РусГидро Акции РусГидро (HYDR)       0.74810    +0.0001   \n",
      "22                Татнефть Акции Татнефть (TATN)     572.30000      -0.30   \n",
      "23        АФК Система Акции АФК \"Система\" (AFKS)      17.78600     +0.551   \n",
      "24                                 МТС Акции МТС     324.30000       0.00   \n",
      "25                Башнефть Акции Башнефть (BANE)    1850.50000        0.0   \n",
      "26                    Яндекс Акции Яндекс (YNDX)    3455.40000       -0.2   \n",
      "27  X5 Retail Group Акции X5 Retail Group (FIVE)    2169.50000    -312.50   \n",
      "28                  ФСК ЕЭС Акции ФСК ЕЭС (FEES)       0.18352   -0.00238   \n",
      "29                      Мечел Акции Мечел (MTLR)      65.62000       0.00   \n",
      "30                МосБиржа Акции МосБиржа (MOEX)     113.23000      -0.19   \n",
      "\n",
      "    Изменение(%)  Обновлено  \n",
      "0       -0.02845        NaN  \n",
      "1       -0.03000        NaN  \n",
      "2       -0.10000        NaN  \n",
      "3       -0.01000        NaN  \n",
      "4       -0.04000        NaN  \n",
      "5       -0.05200        NaN  \n",
      "6       -0.00000        NaN  \n",
      "7       -0.20000        NaN  \n",
      "8       -0.05000        NaN  \n",
      "9        3.00000        NaN  \n",
      "10       0.01000        NaN  \n",
      "11       0.00000        NaN  \n",
      "12      -0.05800        NaN  \n",
      "13       0.00000        NaN  \n",
      "14      -0.00000        NaN  \n",
      "15       3.26000        NaN  \n",
      "16       2.00000        NaN  \n",
      "17      -0.09710        NaN  \n",
      "18       6.22000        NaN  \n",
      "19       0.00000        NaN  \n",
      "20       0.00000        NaN  \n",
      "21       0.01340        NaN  \n",
      "22      -0.05000        NaN  \n",
      "23       3.19700        NaN  \n",
      "24       0.00000        NaN  \n",
      "25       0.00000        NaN  \n",
      "26      -0.00000        NaN  \n",
      "27     -12.59000        NaN  \n",
      "28      -1.28026        NaN  \n",
      "29       0.00000        NaN  \n",
      "30      -0.17000        NaN  \n"
     ]
    }
   ],
   "source": [
    "print(pd.read_html('https://fortrader.org/quotes')[3])"
   ]
  },
  {
   "cell_type": "code",
   "execution_count": null,
   "metadata": {},
   "outputs": [],
   "source": []
  }
 ],
 "metadata": {
  "kernelspec": {
   "display_name": "Python 3",
   "language": "python",
   "name": "python3"
  },
  "language_info": {
   "codemirror_mode": {
    "name": "ipython",
    "version": 3
   },
   "file_extension": ".py",
   "mimetype": "text/x-python",
   "name": "python",
   "nbconvert_exporter": "python",
   "pygments_lexer": "ipython3",
   "version": "3.7.7"
  }
 },
 "nbformat": 4,
 "nbformat_minor": 4
}
