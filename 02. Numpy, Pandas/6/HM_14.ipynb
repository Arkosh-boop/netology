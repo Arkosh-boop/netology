{
 "cells": [
  {
   "cell_type": "markdown",
   "metadata": {},
   "source": [
    "Домашнее задание\n",
    "\n",
    "Что делать\n",
    "\n",
    "Построить 5 графиков по выбранным данным.\n",
    "\n",
    "Графики должны быть различных видов и использовать хотя бы 2 из рассмотренных на занятии библиотек.\n",
    "\n",
    "Для каждого описать, какого типа переменные участвуют в визуализации, какова её цель (например, посмотреть на корреляцию двух величин или на распределение значений) и почему выбрали именно такой тип графика."
   ]
  },
  {
   "cell_type": "code",
   "execution_count": 49,
   "metadata": {},
   "outputs": [
    {
     "data": {
      "text/html": [
       "        <script type=\"text/javascript\">\n",
       "        window.PlotlyConfig = {MathJaxConfig: 'local'};\n",
       "        if (window.MathJax) {MathJax.Hub.Config({SVG: {font: \"STIX-Web\"}});}\n",
       "        if (typeof require !== 'undefined') {\n",
       "        require.undef(\"plotly\");\n",
       "        requirejs.config({\n",
       "            paths: {\n",
       "                'plotly': ['https://cdn.plot.ly/plotly-latest.min']\n",
       "            }\n",
       "        });\n",
       "        require(['plotly'], function(Plotly) {\n",
       "            window._Plotly = Plotly;\n",
       "        });\n",
       "        }\n",
       "        </script>\n",
       "        "
      ]
     },
     "metadata": {},
     "output_type": "display_data"
    }
   ],
   "source": [
    "#увеличим дефолтный размер графиков\n",
    "from pylab import rcParams\n",
    "rcParams['figure.figsize'] = 10,7\n",
    "\n",
    "# импортируем нужные библиотеки\n",
    "import pandas as pd\n",
    "import matplotlib.pyplot as plt\n",
    "import seaborn as sns\n",
    "from plotly.offline import init_notebook_mode, iplot\n",
    "import plotly\n",
    "import plotly.graph_objs as go\n",
    "\n",
    "init_notebook_mode(connected=True)"
   ]
  },
  {
   "cell_type": "code",
   "execution_count": 79,
   "metadata": {},
   "outputs": [
    {
     "data": {
      "text/html": [
       "<div>\n",
       "<style scoped>\n",
       "    .dataframe tbody tr th:only-of-type {\n",
       "        vertical-align: middle;\n",
       "    }\n",
       "\n",
       "    .dataframe tbody tr th {\n",
       "        vertical-align: top;\n",
       "    }\n",
       "\n",
       "    .dataframe thead th {\n",
       "        text-align: right;\n",
       "    }\n",
       "</style>\n",
       "<table border=\"1\" class=\"dataframe\">\n",
       "  <thead>\n",
       "    <tr style=\"text-align: right;\">\n",
       "      <th></th>\n",
       "      <th>Дата</th>\n",
       "      <th>Максимальная температура</th>\n",
       "      <th>Минимальная температура</th>\n",
       "      <th>Средняя температура</th>\n",
       "      <th>Скорость ветра</th>\n",
       "      <th>Эффективная температура</th>\n",
       "    </tr>\n",
       "  </thead>\n",
       "  <tbody>\n",
       "    <tr>\n",
       "      <th>0</th>\n",
       "      <td>01.01.2019</td>\n",
       "      <td>-3.0</td>\n",
       "      <td>-11.8</td>\n",
       "      <td>-4.4</td>\n",
       "      <td>6.0</td>\n",
       "      <td>-10.4</td>\n",
       "    </tr>\n",
       "    <tr>\n",
       "      <th>1</th>\n",
       "      <td>02.01.2019</td>\n",
       "      <td>-2.0</td>\n",
       "      <td>-3.8</td>\n",
       "      <td>-2.5</td>\n",
       "      <td>3.0</td>\n",
       "      <td>-6.3</td>\n",
       "    </tr>\n",
       "    <tr>\n",
       "      <th>2</th>\n",
       "      <td>03.01.2019</td>\n",
       "      <td>-2.9</td>\n",
       "      <td>-4.5</td>\n",
       "      <td>-3.1</td>\n",
       "      <td>2.0</td>\n",
       "      <td>-6.3</td>\n",
       "    </tr>\n",
       "    <tr>\n",
       "      <th>3</th>\n",
       "      <td>04.01.2019</td>\n",
       "      <td>-3.9</td>\n",
       "      <td>-6.3</td>\n",
       "      <td>-4.6</td>\n",
       "      <td>1.0</td>\n",
       "      <td>-7.3</td>\n",
       "    </tr>\n",
       "    <tr>\n",
       "      <th>4</th>\n",
       "      <td>05.01.2019</td>\n",
       "      <td>-6.0</td>\n",
       "      <td>-8.6</td>\n",
       "      <td>-6.8</td>\n",
       "      <td>2.0</td>\n",
       "      <td>-10.4</td>\n",
       "    </tr>\n",
       "    <tr>\n",
       "      <th>...</th>\n",
       "      <td>...</td>\n",
       "      <td>...</td>\n",
       "      <td>...</td>\n",
       "      <td>...</td>\n",
       "      <td>...</td>\n",
       "      <td>...</td>\n",
       "    </tr>\n",
       "    <tr>\n",
       "      <th>356</th>\n",
       "      <td>27.12.2019</td>\n",
       "      <td>0.2</td>\n",
       "      <td>-4.0</td>\n",
       "      <td>-0.6</td>\n",
       "      <td>2.0</td>\n",
       "      <td>-3.5</td>\n",
       "    </tr>\n",
       "    <tr>\n",
       "      <th>357</th>\n",
       "      <td>28.12.2019</td>\n",
       "      <td>-3.8</td>\n",
       "      <td>-9.4</td>\n",
       "      <td>-5.9</td>\n",
       "      <td>4.0</td>\n",
       "      <td>-10.8</td>\n",
       "    </tr>\n",
       "    <tr>\n",
       "      <th>358</th>\n",
       "      <td>29.12.2019</td>\n",
       "      <td>-7.0</td>\n",
       "      <td>-16.4</td>\n",
       "      <td>-11.9</td>\n",
       "      <td>1.0</td>\n",
       "      <td>-15.3</td>\n",
       "    </tr>\n",
       "    <tr>\n",
       "      <th>359</th>\n",
       "      <td>30.12.2019</td>\n",
       "      <td>0.1</td>\n",
       "      <td>-10.1</td>\n",
       "      <td>-3.1</td>\n",
       "      <td>4.0</td>\n",
       "      <td>-7.6</td>\n",
       "    </tr>\n",
       "    <tr>\n",
       "      <th>360</th>\n",
       "      <td>31.12.2019</td>\n",
       "      <td>1.5</td>\n",
       "      <td>-1.6</td>\n",
       "      <td>0.7</td>\n",
       "      <td>2.0</td>\n",
       "      <td>-2.0</td>\n",
       "    </tr>\n",
       "  </tbody>\n",
       "</table>\n",
       "<p>361 rows × 6 columns</p>\n",
       "</div>"
      ],
      "text/plain": [
       "           Дата  Максимальная температура  Минимальная температура  \\\n",
       "0    01.01.2019                      -3.0                    -11.8   \n",
       "1    02.01.2019                      -2.0                     -3.8   \n",
       "2    03.01.2019                      -2.9                     -4.5   \n",
       "3    04.01.2019                      -3.9                     -6.3   \n",
       "4    05.01.2019                      -6.0                     -8.6   \n",
       "..          ...                       ...                      ...   \n",
       "356  27.12.2019                       0.2                     -4.0   \n",
       "357  28.12.2019                      -3.8                     -9.4   \n",
       "358  29.12.2019                      -7.0                    -16.4   \n",
       "359  30.12.2019                       0.1                    -10.1   \n",
       "360  31.12.2019                       1.5                     -1.6   \n",
       "\n",
       "     Средняя температура  Скорость ветра  Эффективная температура  \n",
       "0                   -4.4             6.0                    -10.4  \n",
       "1                   -2.5             3.0                     -6.3  \n",
       "2                   -3.1             2.0                     -6.3  \n",
       "3                   -4.6             1.0                     -7.3  \n",
       "4                   -6.8             2.0                    -10.4  \n",
       "..                   ...             ...                      ...  \n",
       "356                 -0.6             2.0                     -3.5  \n",
       "357                 -5.9             4.0                    -10.8  \n",
       "358                -11.9             1.0                    -15.3  \n",
       "359                 -3.1             4.0                     -7.6  \n",
       "360                  0.7             2.0                     -2.0  \n",
       "\n",
       "[361 rows x 6 columns]"
      ]
     },
     "execution_count": 79,
     "metadata": {},
     "output_type": "execute_result"
    }
   ],
   "source": [
    "df = pd.read_csv('cherepovets.csv').dropna()\n",
    "df"
   ]
  },
  {
   "cell_type": "code",
   "execution_count": 88,
   "metadata": {},
   "outputs": [
    {
     "data": {
      "text/plain": [
       "<matplotlib.axes._subplots.AxesSubplot at 0x21a81412e88>"
      ]
     },
     "execution_count": 88,
     "metadata": {},
     "output_type": "execute_result"
    },
    {
     "data": {
      "image/png": "[encoded data removed]",
      "text/plain": [
       "<Figure size 720x504 with 1 Axes>"
      ]
     },
     "metadata": {
      "needs_background": "light"
     },
     "output_type": "display_data"
    }
   ],
   "source": [
    "df.plot.hist()\n",
    "# Распределения различных величин в выборке"
   ]
  },
  {
   "cell_type": "code",
   "execution_count": 35,
   "metadata": {},
   "outputs": [
    {
     "data": {
      "text/plain": [
       "([], <a list of 0 Text major ticklabel objects>)"
      ]
     },
     "execution_count": 35,
     "metadata": {},
     "output_type": "execute_result"
    },
    {
     "data": {
      "image/png": "[encoded data removed]",
      "text/plain": [
       "<Figure size 720x504 with 1 Axes>"
      ]
     },
     "metadata": {
      "needs_background": "light"
     },
     "output_type": "display_data"
    }
   ],
   "source": [
    "# Смотрим распределений мин. температуры в течение года.\n",
    "df['Минимальная температура'].plot(kind='bar', rot=45)\n",
    "plt.xticks([])\n"
   ]
  },
  {
   "cell_type": "code",
   "execution_count": 41,
   "metadata": {},
   "outputs": [
    {
     "data": {
      "text/plain": [
       "([], <a list of 0 Text major ticklabel objects>)"
      ]
     },
     "execution_count": 41,
     "metadata": {},
     "output_type": "execute_result"
    },
    {
     "data": {
      "image/png": "[encoded data removed]",
      "text/plain": [
       "<Figure size 720x504 with 1 Axes>"
      ]
     },
     "metadata": {
      "needs_background": "light"
     },
     "output_type": "display_data"
    }
   ],
   "source": [
    "# Смотрим распределений мах. температуры в течение года.\n",
    "df['Максимальная температура'].plot(kind='bar', rot=45)\n",
    "plt.xticks([])"
   ]
  },
  {
   "cell_type": "code",
   "execution_count": 45,
   "metadata": {},
   "outputs": [
    {
     "data": {
      "text/plain": [
       "<matplotlib.axes._subplots.AxesSubplot at 0x21afd2ee448>"
      ]
     },
     "execution_count": 45,
     "metadata": {},
     "output_type": "execute_result"
    },
    {
     "data": {
      "image/png": "[encoded data removed]",
      "text/plain": [
       "<Figure size 720x504 with 1 Axes>"
      ]
     },
     "metadata": {},
     "output_type": "display_data"
    }
   ],
   "source": [
    "# Смотрим какая скорость ветра преоблада в течение года\n",
    "Wind_days = df.sort_values('Скорость ветра')['Скорость ветра'].value_counts()\n",
    "Wind_days.plot(kind='pie', y='Count')\n",
    "# Чаще всего встречалась скорость ветра от 2 до 3 м/с, ветренных дней со скоростью более 4 - совсем немного"
   ]
  },
  {
   "cell_type": "code",
   "execution_count": 89,
   "metadata": {},
   "outputs": [
    {
     "data": {
      "text/plain": [
       "<seaborn.axisgrid.PairGrid at 0x21a82e74c88>"
      ]
     },
     "execution_count": 89,
     "metadata": {},
     "output_type": "execute_result"
    },
    {
     "data": {
      "image/png": "[encoded data removed]",
      "text/plain": [
       "<Figure size 360x360 with 6 Axes>"
      ]
     },
     "metadata": {
      "needs_background": "light"
     },
     "output_type": "display_data"
    }
   ],
   "source": [
    "sns_plot = sns.pairplot(df[['Средняя температура', 'Скорость ветра']])\n",
    "sns_plot"
   ]
  },
  {
   "cell_type": "code",
   "execution_count": 46,
   "metadata": {},
   "outputs": [
    {
     "data": {
      "text/plain": [
       "<matplotlib.axes._subplots.AxesSubplot at 0x21adb278a08>"
      ]
     },
     "execution_count": 46,
     "metadata": {},
     "output_type": "execute_result"
    },
    {
     "data": {
      "image/png": "[encoded data removed]",
      "text/plain": [
       "<Figure size 720x504 with 1 Axes>"
      ]
     },
     "metadata": {
      "needs_background": "light"
     },
     "output_type": "display_data"
    }
   ],
   "source": [
    "sns.distplot(df['Скорость ветра'])\n",
    "# Ну мы почти смогли увидеть нормальное распределние :)"
   ]
  },
  {
   "cell_type": "code",
   "execution_count": 48,
   "metadata": {},
   "outputs": [
    {
     "data": {
      "text/plain": [
       "<seaborn.axisgrid.JointGrid at 0x21adb3ade08>"
      ]
     },
     "execution_count": 48,
     "metadata": {},
     "output_type": "execute_result"
    },
    {
     "data": {
      "image/png": "[encoded data removed]",
      "text/plain": [
       "<Figure size 432x432 with 3 Axes>"
      ]
     },
     "metadata": {
      "needs_background": "light"
     },
     "output_type": "display_data"
    }
   ],
   "source": [
    "sns.jointplot(x='Минимальная температура', y='Максимальная температура', \n",
    "              data=df, kind='reg')\n",
    "# По линии тренда можно оценить среднегодовую температуру, если сравнивать разные года"
   ]
  },
  {
   "cell_type": "code",
   "execution_count": 107,
   "metadata": {},
   "outputs": [
    {
     "data": {
      "application/vnd.plotly.v1+json": {
       "config": {
        "linkText": "Export to plot.ly",
        "plotlyServerURL": "https://plot.ly",
        "showLink": false
       },
       "data": [
        {
         "name": "Температуры при скорости ветра 0 м/с",
         "type": "box",
         "y": [
          15.7,
          3.2
         ]
        },
        {
         "name": "Температуры при скорости ветра 1 м/с",
         "type": "box",
         "y": [
          -4.6,
          -12.1,
          -20.7,
          -19.7,
          -3.3,
          -5.2,
          -0.6,
          -9.7,
          -10.8,
          -0.3,
          1.4,
          1.5,
          3.1,
          3,
          5.9,
          1.1,
          3.4,
          11.4,
          22.3,
          13.3,
          12.8,
          13.8,
          16,
          18.1,
          17,
          16.7,
          13.7,
          13.9,
          12.3,
          14.4,
          3.7,
          5.1,
          4.4,
          6.1,
          2.8,
          5,
          -9.9,
          -6.4,
          -8.3,
          -4.4,
          -11.9
         ]
        },
        {
         "name": "Температуры при скорости ветра 2 м/с",
         "type": "box",
         "y": [
          -3.1,
          -6.8,
          -10.6,
          -12.5,
          -18.4,
          -12.5,
          -13.6,
          -5.8,
          -1.2,
          -6.6,
          -12.4,
          -7.9,
          1.2,
          1.5,
          1.5,
          0.3,
          -1.1,
          -0.6,
          -0.1,
          0.4,
          4.6,
          4.3,
          3.9,
          6.8,
          8.5,
          10.4,
          14.9,
          2.1,
          5.3,
          8.4,
          11.3,
          19.4,
          16.2,
          15.9,
          11.3,
          10.7,
          13.1,
          16.4,
          14.6,
          21.5,
          24.4,
          24.9,
          24.9,
          19.6,
          12.6,
          11.4,
          12.3,
          17.3,
          19.2,
          20,
          21.2,
          18,
          14.7,
          14.1,
          12.2,
          16.4,
          17.2,
          11.1,
          11.3,
          16.4,
          16,
          16.9,
          18.8,
          16.9,
          23.4,
          11.3,
          10.4,
          11.8,
          14.5,
          16.6,
          14,
          13.7,
          14.9,
          18.6,
          18.5,
          14.6,
          13.4,
          11.6,
          13.8,
          17.7,
          14.2,
          15.6,
          17.3,
          17,
          7.8,
          5,
          3.4,
          3.3,
          5.3,
          0.8,
          2.2,
          0.9,
          8.8,
          6.5,
          -3.7,
          -5.2,
          -2.6,
          2.4,
          0.9,
          -8.6,
          -0.8,
          2.1,
          0,
          -0.6,
          0.7
         ]
        },
        {
         "name": "Температуры при скорости ветра 3 м/с",
         "type": "box",
         "y": [
          -2.5,
          -5.8,
          -6.2,
          -10.7,
          -5.9,
          -4.4,
          -3.3,
          -4.9,
          -6.7,
          -15.4,
          -10.1,
          -6.8,
          -5,
          -4.8,
          -3.6,
          -5.8,
          -2.1,
          0.5,
          -2.2,
          -1.4,
          -4.3,
          1.3,
          -6.7,
          -1.9,
          0.9,
          -9.7,
          1.2,
          -5.5,
          -0.6,
          -8.1,
          -6.2,
          0.6,
          0.1,
          -5.2,
          -0.2,
          0.7,
          0.6,
          1.2,
          0.4,
          4.3,
          3.2,
          3.9,
          1.2,
          -0.3,
          1.9,
          1.2,
          3.7,
          5.8,
          12.2,
          13.8,
          11.2,
          9.8,
          18.7,
          8.4,
          10.3,
          18.1,
          8.2,
          8.9,
          11.8,
          13.7,
          12.1,
          21.7,
          15.6,
          14.6,
          16.2,
          13.3,
          17.7,
          18.4,
          11.4,
          22.1,
          24,
          19.9,
          14.3,
          14.5,
          15.6,
          12.6,
          12.8,
          16.1,
          15.1,
          14.2,
          15.4,
          14.3,
          9.4,
          16.4,
          16.6,
          17.1,
          20.5,
          23.9,
          14.9,
          9.9,
          8.8,
          10.6,
          11.1,
          13.8,
          10.1,
          8,
          8.3,
          10.7,
          14.1,
          15.7,
          14.1,
          15,
          13.6,
          17.3,
          16.2,
          15.7,
          10.3,
          8.6,
          9.7,
          8.3,
          3.6,
          4.1,
          4.2,
          4.5,
          6.7,
          10.1,
          6.4,
          5.7,
          1.7,
          0.9,
          3.3,
          4,
          5.2,
          3.8,
          2.7,
          7.6,
          8.2,
          4.1,
          9.1,
          7.7,
          -2.1,
          -3.9,
          -0.8,
          0.4,
          -1.4,
          -7.4,
          -6.3,
          0.7,
          3.4,
          2.6,
          1.1,
          3.2,
          0.9,
          3.3,
          -0.4,
          -4.4,
          -5.6,
          -2.9,
          -0.6,
          0.6,
          -3.6,
          -1.8,
          1.6,
          3.8,
          0.8,
          -0.8,
          0.7,
          1.3,
          0.1,
          0.7,
          0.6
         ]
        },
        {
         "name": "Температуры при скорости ветра 4 м/с",
         "type": "box",
         "y": [
          -7.8,
          -8.3,
          -2.2,
          -5.2,
          -5.6,
          -2.9,
          -4.5,
          -2.5,
          -0.5,
          1.3,
          -0.4,
          -8.7,
          -0.8,
          0.1,
          -1.6,
          3.6,
          9.6,
          6,
          21.9,
          11.6,
          10.7,
          14.2,
          14.8,
          10.4,
          0.8,
          8.2,
          8.3,
          6.5,
          6.3,
          -1.8,
          -2.8,
          2,
          2.3,
          -1.3,
          -1.2,
          0.6,
          -5.9,
          -3.1
         ]
        },
        {
         "name": "Температуры при скорости ветра 5 м/с",
         "type": "box",
         "y": [
          0.4,
          -5.8,
          1.4,
          0.2,
          3,
          -0.1
         ]
        },
        {
         "name": "Температуры при скорости ветра 6 м/с",
         "type": "box",
         "y": [
          -4.4,
          1.6,
          2.3,
          13.4,
          9.6,
          1.2
         ]
        }
       ],
       "layout": {
        "template": {
         "data": {
          "bar": [
           {
            "error_x": {
             "color": "#2a3f5f"
            },
            "error_y": {
             "color": "#2a3f5f"
            },
            "marker": {
             "line": {
              "color": "#E5ECF6",
              "width": 0.5
             }
            },
            "type": "bar"
           }
          ],
          "barpolar": [
           {
            "marker": {
             "line": {
              "color": "#E5ECF6",
              "width": 0.5
             }
            },
            "type": "barpolar"
           }
          ],
          "carpet": [
           {
            "aaxis": {
             "endlinecolor": "#2a3f5f",
             "gridcolor": "white",
             "linecolor": "white",
             "minorgridcolor": "white",
             "startlinecolor": "#2a3f5f"
            },
            "baxis": {
             "endlinecolor": "#2a3f5f",
             "gridcolor": "white",
             "linecolor": "white",
             "minorgridcolor": "white",
             "startlinecolor": "#2a3f5f"
            },
            "type": "carpet"
           }
          ],
          "choropleth": [
           {
            "colorbar": {
             "outlinewidth": 0,
             "ticks": ""
            },
            "type": "choropleth"
           }
          ],
          "contour": [
           {
            "colorbar": {
             "outlinewidth": 0,
             "ticks": ""
            },
            "colorscale": [
             [
              0,
              "#0d0887"
             ],
             [
              0.1111111111111111,
              "#46039f"
             ],
             [
              0.2222222222222222,
              "#7201a8"
             ],
             [
              0.3333333333333333,
              "#9c179e"
             ],
             [
              0.4444444444444444,
              "#bd3786"
             ],
             [
              0.5555555555555556,
              "#d8576b"
             ],
             [
              0.6666666666666666,
              "#ed7953"
             ],
             [
              0.7777777777777778,
              "#fb9f3a"
             ],
             [
              0.8888888888888888,
              "#fdca26"
             ],
             [
              1,
              "#f0f921"
             ]
            ],
            "type": "contour"
           }
          ],
          "contourcarpet": [
           {
            "colorbar": {
             "outlinewidth": 0,
             "ticks": ""
            },
            "type": "contourcarpet"
           }
          ],
          "heatmap": [
           {
            "colorbar": {
             "outlinewidth": 0,
             "ticks": ""
            },
            "colorscale": [
             [
              0,
              "#0d0887"
             ],
             [
              0.1111111111111111,
              "#46039f"
             ],
             [
              0.2222222222222222,
              "#7201a8"
             ],
             [
              0.3333333333333333,
              "#9c179e"
             ],
             [
              0.4444444444444444,
              "#bd3786"
             ],
             [
              0.5555555555555556,
              "#d8576b"
             ],
             [
              0.6666666666666666,
              "#ed7953"
             ],
             [
              0.7777777777777778,
              "#fb9f3a"
             ],
             [
              0.8888888888888888,
              "#fdca26"
             ],
             [
              1,
              "#f0f921"
             ]
            ],
            "type": "heatmap"
           }
          ],
          "heatmapgl": [
           {
            "colorbar": {
             "outlinewidth": 0,
             "ticks": ""
            },
            "colorscale": [
             [
              0,
              "#0d0887"
             ],
             [
              0.1111111111111111,
              "#46039f"
             ],
             [
              0.2222222222222222,
              "#7201a8"
             ],
             [
              0.3333333333333333,
              "#9c179e"
             ],
             [
              0.4444444444444444,
              "#bd3786"
             ],
             [
              0.5555555555555556,
              "#d8576b"
             ],
             [
              0.6666666666666666,
              "#ed7953"
             ],
             [
              0.7777777777777778,
              "#fb9f3a"
             ],
             [
              0.8888888888888888,
              "#fdca26"
             ],
             [
              1,
              "#f0f921"
             ]
            ],
            "type": "heatmapgl"
           }
          ],
          "histogram": [
           {
            "marker": {
             "colorbar": {
              "outlinewidth": 0,
              "ticks": ""
             }
            },
            "type": "histogram"
           }
          ],
          "histogram2d": [
           {
            "colorbar": {
             "outlinewidth": 0,
             "ticks": ""
            },
            "colorscale": [
             [
              0,
              "#0d0887"
             ],
             [
              0.1111111111111111,
              "#46039f"
             ],
             [
              0.2222222222222222,
              "#7201a8"
             ],
             [
              0.3333333333333333,
              "#9c179e"
             ],
             [
              0.4444444444444444,
              "#bd3786"
             ],
             [
              0.5555555555555556,
              "#d8576b"
             ],
             [
              0.6666666666666666,
              "#ed7953"
             ],
             [
              0.7777777777777778,
              "#fb9f3a"
             ],
             [
              0.8888888888888888,
              "#fdca26"
             ],
             [
              1,
              "#f0f921"
             ]
            ],
            "type": "histogram2d"
           }
          ],
          "histogram2dcontour": [
           {
            "colorbar": {
             "outlinewidth": 0,
             "ticks": ""
            },
            "colorscale": [
             [
              0,
              "#0d0887"
             ],
             [
              0.1111111111111111,
              "#46039f"
             ],
             [
              0.2222222222222222,
              "#7201a8"
             ],
             [
              0.3333333333333333,
              "#9c179e"
             ],
             [
              0.4444444444444444,
              "#bd3786"
             ],
             [
              0.5555555555555556,
              "#d8576b"
             ],
             [
              0.6666666666666666,
              "#ed7953"
             ],
             [
              0.7777777777777778,
              "#fb9f3a"
             ],
             [
              0.8888888888888888,
              "#fdca26"
             ],
             [
              1,
              "#f0f921"
             ]
            ],
            "type": "histogram2dcontour"
           }
          ],
          "mesh3d": [
           {
            "colorbar": {
             "outlinewidth": 0,
             "ticks": ""
            },
            "type": "mesh3d"
           }
          ],
          "parcoords": [
           {
            "line": {
             "colorbar": {
              "outlinewidth": 0,
              "ticks": ""
             }
            },
            "type": "parcoords"
           }
          ],
          "pie": [
           {
            "automargin": true,
            "type": "pie"
           }
          ],
          "scatter": [
           {
            "marker": {
             "colorbar": {
              "outlinewidth": 0,
              "ticks": ""
             }
            },
            "type": "scatter"
           }
          ],
          "scatter3d": [
           {
            "line": {
             "colorbar": {
              "outlinewidth": 0,
              "ticks": ""
             }
            },
            "marker": {
             "colorbar": {
              "outlinewidth": 0,
              "ticks": ""
             }
            },
            "type": "scatter3d"
           }
          ],
          "scattercarpet": [
           {
            "marker": {
             "colorbar": {
              "outlinewidth": 0,
              "ticks": ""
             }
            },
            "type": "scattercarpet"
           }
          ],
          "scattergeo": [
           {
            "marker": {
             "colorbar": {
              "outlinewidth": 0,
              "ticks": ""
             }
            },
            "type": "scattergeo"
           }
          ],
          "scattergl": [
           {
            "marker": {
             "colorbar": {
              "outlinewidth": 0,
              "ticks": ""
             }
            },
            "type": "scattergl"
           }
          ],
          "scattermapbox": [
           {
            "marker": {
             "colorbar": {
              "outlinewidth": 0,
              "ticks": ""
             }
            },
            "type": "scattermapbox"
           }
          ],
          "scatterpolar": [
           {
            "marker": {
             "colorbar": {
              "outlinewidth": 0,
              "ticks": ""
             }
            },
            "type": "scatterpolar"
           }
          ],
          "scatterpolargl": [
           {
            "marker": {
             "colorbar": {
              "outlinewidth": 0,
              "ticks": ""
             }
            },
            "type": "scatterpolargl"
           }
          ],
          "scatterternary": [
           {
            "marker": {
             "colorbar": {
              "outlinewidth": 0,
              "ticks": ""
             }
            },
            "type": "scatterternary"
           }
          ],
          "surface": [
           {
            "colorbar": {
             "outlinewidth": 0,
             "ticks": ""
            },
            "colorscale": [
             [
              0,
              "#0d0887"
             ],
             [
              0.1111111111111111,
              "#46039f"
             ],
             [
              0.2222222222222222,
              "#7201a8"
             ],
             [
              0.3333333333333333,
              "#9c179e"
             ],
             [
              0.4444444444444444,
              "#bd3786"
             ],
             [
              0.5555555555555556,
              "#d8576b"
             ],
             [
              0.6666666666666666,
              "#ed7953"
             ],
             [
              0.7777777777777778,
              "#fb9f3a"
             ],
             [
              0.8888888888888888,
              "#fdca26"
             ],
             [
              1,
              "#f0f921"
             ]
            ],
            "type": "surface"
           }
          ],
          "table": [
           {
            "cells": {
             "fill": {
              "color": "#EBF0F8"
             },
             "line": {
              "color": "white"
             }
            },
            "header": {
             "fill": {
              "color": "#C8D4E3"
             },
             "line": {
              "color": "white"
             }
            },
            "type": "table"
           }
          ]
         },
         "layout": {
          "annotationdefaults": {
           "arrowcolor": "#2a3f5f",
           "arrowhead": 0,
           "arrowwidth": 1
          },
          "coloraxis": {
           "colorbar": {
            "outlinewidth": 0,
            "ticks": ""
           }
          },
          "colorscale": {
           "diverging": [
            [
             0,
             "#8e0152"
            ],
            [
             0.1,
             "#c51b7d"
            ],
            [
             0.2,
             "#de77ae"
            ],
            [
             0.3,
             "#f1b6da"
            ],
            [
             0.4,
             "#fde0ef"
            ],
            [
             0.5,
             "#f7f7f7"
            ],
            [
             0.6,
             "#e6f5d0"
            ],
            [
             0.7,
             "#b8e186"
            ],
            [
             0.8,
             "#7fbc41"
            ],
            [
             0.9,
             "#4d9221"
            ],
            [
             1,
             "#276419"
            ]
           ],
           "sequential": [
            [
             0,
             "#0d0887"
            ],
            [
             0.1111111111111111,
             "#46039f"
            ],
            [
             0.2222222222222222,
             "#7201a8"
            ],
            [
             0.3333333333333333,
             "#9c179e"
            ],
            [
             0.4444444444444444,
             "#bd3786"
            ],
            [
             0.5555555555555556,
             "#d8576b"
            ],
            [
             0.6666666666666666,
             "#ed7953"
            ],
            [
             0.7777777777777778,
             "#fb9f3a"
            ],
            [
             0.8888888888888888,
             "#fdca26"
            ],
            [
             1,
             "#f0f921"
            ]
           ],
           "sequentialminus": [
            [
             0,
             "#0d0887"
            ],
            [
             0.1111111111111111,
             "#46039f"
            ],
            [
             0.2222222222222222,
             "#7201a8"
            ],
            [
             0.3333333333333333,
             "#9c179e"
            ],
            [
             0.4444444444444444,
             "#bd3786"
            ],
            [
             0.5555555555555556,
             "#d8576b"
            ],
            [
             0.6666666666666666,
             "#ed7953"
            ],
            [
             0.7777777777777778,
             "#fb9f3a"
            ],
            [
             0.8888888888888888,
             "#fdca26"
            ],
            [
             1,
             "#f0f921"
            ]
           ]
          },
          "colorway": [
           "#636efa",
           "#EF553B",
           "#00cc96",
           "#ab63fa",
           "#FFA15A",
           "#19d3f3",
           "#FF6692",
           "#B6E880",
           "#FF97FF",
           "#FECB52"
          ],
          "font": {
           "color": "#2a3f5f"
          },
          "geo": {
           "bgcolor": "white",
           "lakecolor": "white",
           "landcolor": "#E5ECF6",
           "showlakes": true,
           "showland": true,
           "subunitcolor": "white"
          },
          "hoverlabel": {
           "align": "left"
          },
          "hovermode": "closest",
          "mapbox": {
           "style": "light"
          },
          "paper_bgcolor": "white",
          "plot_bgcolor": "#E5ECF6",
          "polar": {
           "angularaxis": {
            "gridcolor": "white",
            "linecolor": "white",
            "ticks": ""
           },
           "bgcolor": "#E5ECF6",
           "radialaxis": {
            "gridcolor": "white",
            "linecolor": "white",
            "ticks": ""
           }
          },
          "scene": {
           "xaxis": {
            "backgroundcolor": "#E5ECF6",
            "gridcolor": "white",
            "gridwidth": 2,
            "linecolor": "white",
            "showbackground": true,
            "ticks": "",
            "zerolinecolor": "white"
           },
           "yaxis": {
            "backgroundcolor": "#E5ECF6",
            "gridcolor": "white",
            "gridwidth": 2,
            "linecolor": "white",
            "showbackground": true,
            "ticks": "",
            "zerolinecolor": "white"
           },
           "zaxis": {
            "backgroundcolor": "#E5ECF6",
            "gridcolor": "white",
            "gridwidth": 2,
            "linecolor": "white",
            "showbackground": true,
            "ticks": "",
            "zerolinecolor": "white"
           }
          },
          "shapedefaults": {
           "line": {
            "color": "#2a3f5f"
           }
          },
          "ternary": {
           "aaxis": {
            "gridcolor": "white",
            "linecolor": "white",
            "ticks": ""
           },
           "baxis": {
            "gridcolor": "white",
            "linecolor": "white",
            "ticks": ""
           },
           "bgcolor": "#E5ECF6",
           "caxis": {
            "gridcolor": "white",
            "linecolor": "white",
            "ticks": ""
           }
          },
          "title": {
           "x": 0.05
          },
          "xaxis": {
           "automargin": true,
           "gridcolor": "white",
           "linecolor": "white",
           "ticks": "",
           "title": {
            "standoff": 15
           },
           "zerolinecolor": "white",
           "zerolinewidth": 2
          },
          "yaxis": {
           "automargin": true,
           "gridcolor": "white",
           "linecolor": "white",
           "ticks": "",
           "title": {
            "standoff": 15
           },
           "zerolinecolor": "white",
           "zerolinewidth": 2
          }
         }
        }
       }
      },
      "text/html": [
       "<div>\n",
       "        \n",
       "        \n",
       "            <div id=\"bcb92953-ae85-4426-9cab-f60ad55fbc2d\" class=\"plotly-graph-div\" style=\"height:525px; width:100%;\"></div>\n",
       "            <script type=\"text/javascript\">\n",
       "                require([\"plotly\"], function(Plotly) {\n",
       "                    window.PLOTLYENV=window.PLOTLYENV || {};\n",
       "                    \n",
       "                if (document.getElementById(\"bcb92953-ae85-4426-9cab-f60ad55fbc2d\")) {\n",
       "                    Plotly.newPlot(\n",
       "                        'bcb92953-ae85-4426-9cab-f60ad55fbc2d',\n",
       "                        [{\"name\": \"\\u0422\\u0435\\u043c\\u043f\\u0435\\u0440\\u0430\\u0442\\u0443\\u0440\\u044b \\u043f\\u0440\\u0438 \\u0441\\u043a\\u043e\\u0440\\u043e\\u0441\\u0442\\u0438 \\u0432\\u0435\\u0442\\u0440\\u0430 0 \\u043c/\\u0441\", \"type\": \"box\", \"y\": [15.7, 3.2]}, {\"name\": \"\\u0422\\u0435\\u043c\\u043f\\u0435\\u0440\\u0430\\u0442\\u0443\\u0440\\u044b \\u043f\\u0440\\u0438 \\u0441\\u043a\\u043e\\u0440\\u043e\\u0441\\u0442\\u0438 \\u0432\\u0435\\u0442\\u0440\\u0430 1 \\u043c/\\u0441\", \"type\": \"box\", \"y\": [-4.6, -12.1, -20.7, -19.7, -3.3, -5.2, -0.6, -9.7, -10.8, -0.3, 1.4, 1.5, 3.1, 3.0, 5.9, 1.1, 3.4, 11.4, 22.3, 13.3, 12.8, 13.8, 16.0, 18.1, 17.0, 16.7, 13.7, 13.9, 12.3, 14.4, 3.7, 5.1, 4.4, 6.1, 2.8, 5.0, -9.9, -6.4, -8.3, -4.4, -11.9]}, {\"name\": \"\\u0422\\u0435\\u043c\\u043f\\u0435\\u0440\\u0430\\u0442\\u0443\\u0440\\u044b \\u043f\\u0440\\u0438 \\u0441\\u043a\\u043e\\u0440\\u043e\\u0441\\u0442\\u0438 \\u0432\\u0435\\u0442\\u0440\\u0430 2 \\u043c/\\u0441\", \"type\": \"box\", \"y\": [-3.1, -6.8, -10.6, -12.5, -18.4, -12.5, -13.6, -5.8, -1.2, -6.6, -12.4, -7.9, 1.2, 1.5, 1.5, 0.3, -1.1, -0.6, -0.1, 0.4, 4.6, 4.3, 3.9, 6.8, 8.5, 10.4, 14.9, 2.1, 5.3, 8.4, 11.3, 19.4, 16.2, 15.9, 11.3, 10.7, 13.1, 16.4, 14.6, 21.5, 24.4, 24.9, 24.9, 19.6, 12.6, 11.4, 12.3, 17.3, 19.2, 20.0, 21.2, 18.0, 14.7, 14.1, 12.2, 16.4, 17.2, 11.1, 11.3, 16.4, 16.0, 16.9, 18.8, 16.9, 23.4, 11.3, 10.4, 11.8, 14.5, 16.6, 14.0, 13.7, 14.9, 18.6, 18.5, 14.6, 13.4, 11.6, 13.8, 17.7, 14.2, 15.6, 17.3, 17.0, 7.8, 5.0, 3.4, 3.3, 5.3, 0.8, 2.2, 0.9, 8.8, 6.5, -3.7, -5.2, -2.6, 2.4, 0.9, -8.6, -0.8, 2.1, 0.0, -0.6, 0.7]}, {\"name\": \"\\u0422\\u0435\\u043c\\u043f\\u0435\\u0440\\u0430\\u0442\\u0443\\u0440\\u044b \\u043f\\u0440\\u0438 \\u0441\\u043a\\u043e\\u0440\\u043e\\u0441\\u0442\\u0438 \\u0432\\u0435\\u0442\\u0440\\u0430 3 \\u043c/\\u0441\", \"type\": \"box\", \"y\": [-2.5, -5.8, -6.2, -10.7, -5.9, -4.4, -3.3, -4.9, -6.7, -15.4, -10.1, -6.8, -5.0, -4.8, -3.6, -5.8, -2.1, 0.5, -2.2, -1.4, -4.3, 1.3, -6.7, -1.9, 0.9, -9.7, 1.2, -5.5, -0.6, -8.1, -6.2, 0.6, 0.1, -5.2, -0.2, 0.7, 0.6, 1.2, 0.4, 4.3, 3.2, 3.9, 1.2, -0.3, 1.9, 1.2, 3.7, 5.8, 12.2, 13.8, 11.2, 9.8, 18.7, 8.4, 10.3, 18.1, 8.2, 8.9, 11.8, 13.7, 12.1, 21.7, 15.6, 14.6, 16.2, 13.3, 17.7, 18.4, 11.4, 22.1, 24.0, 19.9, 14.3, 14.5, 15.6, 12.6, 12.8, 16.1, 15.1, 14.2, 15.4, 14.3, 9.4, 16.4, 16.6, 17.1, 20.5, 23.9, 14.9, 9.9, 8.8, 10.6, 11.1, 13.8, 10.1, 8.0, 8.3, 10.7, 14.1, 15.7, 14.1, 15.0, 13.6, 17.3, 16.2, 15.7, 10.3, 8.6, 9.7, 8.3, 3.6, 4.1, 4.2, 4.5, 6.7, 10.1, 6.4, 5.7, 1.7, 0.9, 3.3, 4.0, 5.2, 3.8, 2.7, 7.6, 8.2, 4.1, 9.1, 7.7, -2.1, -3.9, -0.8, 0.4, -1.4, -7.4, -6.3, 0.7, 3.4, 2.6, 1.1, 3.2, 0.9, 3.3, -0.4, -4.4, -5.6, -2.9, -0.6, 0.6, -3.6, -1.8, 1.6, 3.8, 0.8, -0.8, 0.7, 1.3, 0.1, 0.7, 0.6]}, {\"name\": \"\\u0422\\u0435\\u043c\\u043f\\u0435\\u0440\\u0430\\u0442\\u0443\\u0440\\u044b \\u043f\\u0440\\u0438 \\u0441\\u043a\\u043e\\u0440\\u043e\\u0441\\u0442\\u0438 \\u0432\\u0435\\u0442\\u0440\\u0430 4 \\u043c/\\u0441\", \"type\": \"box\", \"y\": [-7.8, -8.3, -2.2, -5.2, -5.6, -2.9, -4.5, -2.5, -0.5, 1.3, -0.4, -8.7, -0.8, 0.1, -1.6, 3.6, 9.6, 6.0, 21.9, 11.6, 10.7, 14.2, 14.8, 10.4, 0.8, 8.2, 8.3, 6.5, 6.3, -1.8, -2.8, 2.0, 2.3, -1.3, -1.2, 0.6, -5.9, -3.1]}, {\"name\": \"\\u0422\\u0435\\u043c\\u043f\\u0435\\u0440\\u0430\\u0442\\u0443\\u0440\\u044b \\u043f\\u0440\\u0438 \\u0441\\u043a\\u043e\\u0440\\u043e\\u0441\\u0442\\u0438 \\u0432\\u0435\\u0442\\u0440\\u0430 5 \\u043c/\\u0441\", \"type\": \"box\", \"y\": [0.4, -5.8, 1.4, 0.2, 3.0, -0.1]}, {\"name\": \"\\u0422\\u0435\\u043c\\u043f\\u0435\\u0440\\u0430\\u0442\\u0443\\u0440\\u044b \\u043f\\u0440\\u0438 \\u0441\\u043a\\u043e\\u0440\\u043e\\u0441\\u0442\\u0438 \\u0432\\u0435\\u0442\\u0440\\u0430 6 \\u043c/\\u0441\", \"type\": \"box\", \"y\": [-4.4, 1.6, 2.3, 13.4, 9.6, 1.2]}],\n",
       "                        {\"template\": {\"data\": {\"bar\": [{\"error_x\": {\"color\": \"#2a3f5f\"}, \"error_y\": {\"color\": \"#2a3f5f\"}, \"marker\": {\"line\": {\"color\": \"#E5ECF6\", \"width\": 0.5}}, \"type\": \"bar\"}], \"barpolar\": [{\"marker\": {\"line\": {\"color\": \"#E5ECF6\", \"width\": 0.5}}, \"type\": \"barpolar\"}], \"carpet\": [{\"aaxis\": {\"endlinecolor\": \"#2a3f5f\", \"gridcolor\": \"white\", \"linecolor\": \"white\", \"minorgridcolor\": \"white\", \"startlinecolor\": \"#2a3f5f\"}, \"baxis\": {\"endlinecolor\": \"#2a3f5f\", \"gridcolor\": \"white\", \"linecolor\": \"white\", \"minorgridcolor\": \"white\", \"startlinecolor\": \"#2a3f5f\"}, \"type\": \"carpet\"}], \"choropleth\": [{\"colorbar\": {\"outlinewidth\": 0, \"ticks\": \"\"}, \"type\": \"choropleth\"}], \"contour\": [{\"colorbar\": {\"outlinewidth\": 0, \"ticks\": \"\"}, \"colorscale\": [[0.0, \"#0d0887\"], [0.1111111111111111, \"#46039f\"], [0.2222222222222222, \"#7201a8\"], [0.3333333333333333, \"#9c179e\"], [0.4444444444444444, \"#bd3786\"], [0.5555555555555556, \"#d8576b\"], [0.6666666666666666, \"#ed7953\"], [0.7777777777777778, \"#fb9f3a\"], [0.8888888888888888, \"#fdca26\"], [1.0, \"#f0f921\"]], \"type\": \"contour\"}], \"contourcarpet\": [{\"colorbar\": {\"outlinewidth\": 0, \"ticks\": \"\"}, \"type\": \"contourcarpet\"}], \"heatmap\": [{\"colorbar\": {\"outlinewidth\": 0, \"ticks\": \"\"}, \"colorscale\": [[0.0, \"#0d0887\"], [0.1111111111111111, \"#46039f\"], [0.2222222222222222, \"#7201a8\"], [0.3333333333333333, \"#9c179e\"], [0.4444444444444444, \"#bd3786\"], [0.5555555555555556, \"#d8576b\"], [0.6666666666666666, \"#ed7953\"], [0.7777777777777778, \"#fb9f3a\"], [0.8888888888888888, \"#fdca26\"], [1.0, \"#f0f921\"]], \"type\": \"heatmap\"}], \"heatmapgl\": [{\"colorbar\": {\"outlinewidth\": 0, \"ticks\": \"\"}, \"colorscale\": [[0.0, \"#0d0887\"], [0.1111111111111111, \"#46039f\"], [0.2222222222222222, \"#7201a8\"], [0.3333333333333333, \"#9c179e\"], [0.4444444444444444, \"#bd3786\"], [0.5555555555555556, \"#d8576b\"], [0.6666666666666666, \"#ed7953\"], [0.7777777777777778, \"#fb9f3a\"], [0.8888888888888888, \"#fdca26\"], [1.0, \"#f0f921\"]], \"type\": \"heatmapgl\"}], \"histogram\": [{\"marker\": {\"colorbar\": {\"outlinewidth\": 0, \"ticks\": \"\"}}, \"type\": \"histogram\"}], \"histogram2d\": [{\"colorbar\": {\"outlinewidth\": 0, \"ticks\": \"\"}, \"colorscale\": [[0.0, \"#0d0887\"], [0.1111111111111111, \"#46039f\"], [0.2222222222222222, \"#7201a8\"], [0.3333333333333333, \"#9c179e\"], [0.4444444444444444, \"#bd3786\"], [0.5555555555555556, \"#d8576b\"], [0.6666666666666666, \"#ed7953\"], [0.7777777777777778, \"#fb9f3a\"], [0.8888888888888888, \"#fdca26\"], [1.0, \"#f0f921\"]], \"type\": \"histogram2d\"}], \"histogram2dcontour\": [{\"colorbar\": {\"outlinewidth\": 0, \"ticks\": \"\"}, \"colorscale\": [[0.0, \"#0d0887\"], [0.1111111111111111, \"#46039f\"], [0.2222222222222222, \"#7201a8\"], [0.3333333333333333, \"#9c179e\"], [0.4444444444444444, \"#bd3786\"], [0.5555555555555556, \"#d8576b\"], [0.6666666666666666, \"#ed7953\"], [0.7777777777777778, \"#fb9f3a\"], [0.8888888888888888, \"#fdca26\"], [1.0, \"#f0f921\"]], \"type\": \"histogram2dcontour\"}], \"mesh3d\": [{\"colorbar\": {\"outlinewidth\": 0, \"ticks\": \"\"}, \"type\": \"mesh3d\"}], \"parcoords\": [{\"line\": {\"colorbar\": {\"outlinewidth\": 0, \"ticks\": \"\"}}, \"type\": \"parcoords\"}], \"pie\": [{\"automargin\": true, \"type\": \"pie\"}], \"scatter\": [{\"marker\": {\"colorbar\": {\"outlinewidth\": 0, \"ticks\": \"\"}}, \"type\": \"scatter\"}], \"scatter3d\": [{\"line\": {\"colorbar\": {\"outlinewidth\": 0, \"ticks\": \"\"}}, \"marker\": {\"colorbar\": {\"outlinewidth\": 0, \"ticks\": \"\"}}, \"type\": \"scatter3d\"}], \"scattercarpet\": [{\"marker\": {\"colorbar\": {\"outlinewidth\": 0, \"ticks\": \"\"}}, \"type\": \"scattercarpet\"}], \"scattergeo\": [{\"marker\": {\"colorbar\": {\"outlinewidth\": 0, \"ticks\": \"\"}}, \"type\": \"scattergeo\"}], \"scattergl\": [{\"marker\": {\"colorbar\": {\"outlinewidth\": 0, \"ticks\": \"\"}}, \"type\": \"scattergl\"}], \"scattermapbox\": [{\"marker\": {\"colorbar\": {\"outlinewidth\": 0, \"ticks\": \"\"}}, \"type\": \"scattermapbox\"}], \"scatterpolar\": [{\"marker\": {\"colorbar\": {\"outlinewidth\": 0, \"ticks\": \"\"}}, \"type\": \"scatterpolar\"}], \"scatterpolargl\": [{\"marker\": {\"colorbar\": {\"outlinewidth\": 0, \"ticks\": \"\"}}, \"type\": \"scatterpolargl\"}], \"scatterternary\": [{\"marker\": {\"colorbar\": {\"outlinewidth\": 0, \"ticks\": \"\"}}, \"type\": \"scatterternary\"}], \"surface\": [{\"colorbar\": {\"outlinewidth\": 0, \"ticks\": \"\"}, \"colorscale\": [[0.0, \"#0d0887\"], [0.1111111111111111, \"#46039f\"], [0.2222222222222222, \"#7201a8\"], [0.3333333333333333, \"#9c179e\"], [0.4444444444444444, \"#bd3786\"], [0.5555555555555556, \"#d8576b\"], [0.6666666666666666, \"#ed7953\"], [0.7777777777777778, \"#fb9f3a\"], [0.8888888888888888, \"#fdca26\"], [1.0, \"#f0f921\"]], \"type\": \"surface\"}], \"table\": [{\"cells\": {\"fill\": {\"color\": \"#EBF0F8\"}, \"line\": {\"color\": \"white\"}}, \"header\": {\"fill\": {\"color\": \"#C8D4E3\"}, \"line\": {\"color\": \"white\"}}, \"type\": \"table\"}]}, \"layout\": {\"annotationdefaults\": {\"arrowcolor\": \"#2a3f5f\", \"arrowhead\": 0, \"arrowwidth\": 1}, \"coloraxis\": {\"colorbar\": {\"outlinewidth\": 0, \"ticks\": \"\"}}, \"colorscale\": {\"diverging\": [[0, \"#8e0152\"], [0.1, \"#c51b7d\"], [0.2, \"#de77ae\"], [0.3, \"#f1b6da\"], [0.4, \"#fde0ef\"], [0.5, \"#f7f7f7\"], [0.6, \"#e6f5d0\"], [0.7, \"#b8e186\"], [0.8, \"#7fbc41\"], [0.9, \"#4d9221\"], [1, \"#276419\"]], \"sequential\": [[0.0, \"#0d0887\"], [0.1111111111111111, \"#46039f\"], [0.2222222222222222, \"#7201a8\"], [0.3333333333333333, \"#9c179e\"], [0.4444444444444444, \"#bd3786\"], [0.5555555555555556, \"#d8576b\"], [0.6666666666666666, \"#ed7953\"], [0.7777777777777778, \"#fb9f3a\"], [0.8888888888888888, \"#fdca26\"], [1.0, \"#f0f921\"]], \"sequentialminus\": [[0.0, \"#0d0887\"], [0.1111111111111111, \"#46039f\"], [0.2222222222222222, \"#7201a8\"], [0.3333333333333333, \"#9c179e\"], [0.4444444444444444, \"#bd3786\"], [0.5555555555555556, \"#d8576b\"], [0.6666666666666666, \"#ed7953\"], [0.7777777777777778, \"#fb9f3a\"], [0.8888888888888888, \"#fdca26\"], [1.0, \"#f0f921\"]]}, \"colorway\": [\"#636efa\", \"#EF553B\", \"#00cc96\", \"#ab63fa\", \"#FFA15A\", \"#19d3f3\", \"#FF6692\", \"#B6E880\", \"#FF97FF\", \"#FECB52\"], \"font\": {\"color\": \"#2a3f5f\"}, \"geo\": {\"bgcolor\": \"white\", \"lakecolor\": \"white\", \"landcolor\": \"#E5ECF6\", \"showlakes\": true, \"showland\": true, \"subunitcolor\": \"white\"}, \"hoverlabel\": {\"align\": \"left\"}, \"hovermode\": \"closest\", \"mapbox\": {\"style\": \"light\"}, \"paper_bgcolor\": \"white\", \"plot_bgcolor\": \"#E5ECF6\", \"polar\": {\"angularaxis\": {\"gridcolor\": \"white\", \"linecolor\": \"white\", \"ticks\": \"\"}, \"bgcolor\": \"#E5ECF6\", \"radialaxis\": {\"gridcolor\": \"white\", \"linecolor\": \"white\", \"ticks\": \"\"}}, \"scene\": {\"xaxis\": {\"backgroundcolor\": \"#E5ECF6\", \"gridcolor\": \"white\", \"gridwidth\": 2, \"linecolor\": \"white\", \"showbackground\": true, \"ticks\": \"\", \"zerolinecolor\": \"white\"}, \"yaxis\": {\"backgroundcolor\": \"#E5ECF6\", \"gridcolor\": \"white\", \"gridwidth\": 2, \"linecolor\": \"white\", \"showbackground\": true, \"ticks\": \"\", \"zerolinecolor\": \"white\"}, \"zaxis\": {\"backgroundcolor\": \"#E5ECF6\", \"gridcolor\": \"white\", \"gridwidth\": 2, \"linecolor\": \"white\", \"showbackground\": true, \"ticks\": \"\", \"zerolinecolor\": \"white\"}}, \"shapedefaults\": {\"line\": {\"color\": \"#2a3f5f\"}}, \"ternary\": {\"aaxis\": {\"gridcolor\": \"white\", \"linecolor\": \"white\", \"ticks\": \"\"}, \"baxis\": {\"gridcolor\": \"white\", \"linecolor\": \"white\", \"ticks\": \"\"}, \"bgcolor\": \"#E5ECF6\", \"caxis\": {\"gridcolor\": \"white\", \"linecolor\": \"white\", \"ticks\": \"\"}}, \"title\": {\"x\": 0.05}, \"xaxis\": {\"automargin\": true, \"gridcolor\": \"white\", \"linecolor\": \"white\", \"ticks\": \"\", \"title\": {\"standoff\": 15}, \"zerolinecolor\": \"white\", \"zerolinewidth\": 2}, \"yaxis\": {\"automargin\": true, \"gridcolor\": \"white\", \"linecolor\": \"white\", \"ticks\": \"\", \"title\": {\"standoff\": 15}, \"zerolinecolor\": \"white\", \"zerolinewidth\": 2}}}},\n",
       "                        {\"responsive\": true}\n",
       "                    ).then(function(){\n",
       "                            \n",
       "var gd = document.getElementById('bcb92953-ae85-4426-9cab-f60ad55fbc2d');\n",
       "var x = new MutationObserver(function (mutations, observer) {{\n",
       "        var display = window.getComputedStyle(gd).display;\n",
       "        if (!display || display === 'none') {{\n",
       "            console.log([gd, 'removed!']);\n",
       "            Plotly.purge(gd);\n",
       "            observer.disconnect();\n",
       "        }}\n",
       "}});\n",
       "\n",
       "// Listen for the removal of the full notebook cells\n",
       "var notebookContainer = gd.closest('#notebook-container');\n",
       "if (notebookContainer) {{\n",
       "    x.observe(notebookContainer, {childList: true});\n",
       "}}\n",
       "\n",
       "// Listen for the clearing of the current output cell\n",
       "var outputEl = gd.closest('.output');\n",
       "if (outputEl) {{\n",
       "    x.observe(outputEl, {childList: true});\n",
       "}}\n",
       "\n",
       "                        })\n",
       "                };\n",
       "                });\n",
       "            </script>\n",
       "        </div>"
      ]
     },
     "metadata": {},
     "output_type": "display_data"
    }
   ],
   "source": [
    "data = []\n",
    "max_wind_speed = df['Скорость ветра'].max()\n",
    "for ms in range(a.astype(int)):\n",
    "    data.append(\n",
    "        go.Box(y=df[df['Скорость ветра']==ms]['Средняя температура'], \n",
    "               name=f'Температуры при скорости ветра {ms} м/с')\n",
    "    )\n",
    "iplot(data, show_link = False)"
   ]
  },
  {
   "cell_type": "code",
   "execution_count": null,
   "metadata": {},
   "outputs": [],
   "source": []
  }
 ],
 "metadata": {
  "kernelspec": {
   "display_name": "Python 3",
   "language": "python",
   "name": "python3"
  },
  "language_info": {
   "codemirror_mode": {
    "name": "ipython",
    "version": 3
   },
   "file_extension": ".py",
   "mimetype": "text/x-python",
   "name": "python",
   "nbconvert_exporter": "python",
   "pygments_lexer": "ipython3",
   "version": "3.7.7"
  }
 },
 "nbformat": 4,
 "nbformat_minor": 4
}
